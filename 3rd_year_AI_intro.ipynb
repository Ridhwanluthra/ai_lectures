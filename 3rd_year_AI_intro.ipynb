{
 "cells": [
  {
   "cell_type": "markdown",
   "metadata": {
    "slideshow": {
     "slide_type": "slide"
    }
   },
   "source": [
    "<!-- <div style=\"font-size: 150px\"> -->\n",
    "# Practical Introduction to Artificial Intelligence"
   ]
  },
  {
   "cell_type": "markdown",
   "metadata": {
    "slideshow": {
     "slide_type": "subslide"
    }
   },
   "source": [
    "## Logistics for this lecture series..."
   ]
  },
  {
   "cell_type": "markdown",
   "metadata": {
    "slideshow": {
     "slide_type": "fragment"
    }
   },
   "source": [
    "<!-- <div style=\"font-size: 50px\"> -->\n",
    "* Topics that would be covered:\n",
    "    * Convolutional neural networks\n",
    "    * Recurrent neural networks\n",
    "    * Reinforcement learning\n",
    "    * Final topic to be decided by class......."
   ]
  },
  {
   "cell_type": "markdown",
   "metadata": {
    "slideshow": {
     "slide_type": "subslide"
    }
   },
   "source": [
    "### Structure of the classes"
   ]
  },
  {
   "cell_type": "markdown",
   "metadata": {
    "slideshow": {
     "slide_type": "fragment"
    }
   },
   "source": [
    "* Not everyone is at the same level in AI.\n",
    "* Class can be divided into 2-3 groups working at various levels\n",
    "    * People who already know what I am teaching\n",
    "        * You can work on practical tasks directly!\n",
    "        * If you think my task is too easy for you, I can give you another one if you want!\n",
    "    * People who would rather learn this stuff themselves\n",
    "        * I can point you to relevant lectures\n",
    "        * This would be the hardest group of all because you would have to deliver on your self learning!\n",
    "    * People who would like to learn in class"
   ]
  },
  {
   "cell_type": "markdown",
   "metadata": {
    "slideshow": {
     "slide_type": "slide"
    }
   },
   "source": [
    "### Development Environment"
   ]
  },
  {
   "cell_type": "markdown",
   "metadata": {
    "slideshow": {
     "slide_type": "fragment"
    }
   },
   "source": [
    "#### Python (duh!) and Pytorch\n",
    "* For beginners:\n",
    "    * Install anaconda (specially if you are on windows)\n",
    "    * If you are willing to challenge yourself learn to use pip and virtualenvs (not for windows users! ;) )\n",
    "* I would use Pytorch and would build and deliver all lectures in the same."
   ]
  },
  {
   "cell_type": "markdown",
   "metadata": {
    "slideshow": {
     "slide_type": "subslide"
    }
   },
   "source": [
    "### If you would like to work using any other framework, platform, etc. feel free to do that.\n",
    "### Even if you wanna build it on assembly, I will check it if you dare to build it!!"
   ]
  },
  {
   "cell_type": "markdown",
   "metadata": {
    "slideshow": {
     "slide_type": "slide"
    }
   },
   "source": [
    "# So Whazzzupp!!"
   ]
  },
  {
   "cell_type": "markdown",
   "metadata": {
    "slideshow": {
     "slide_type": "fragment"
    }
   },
   "source": [
    "* What is machine learning?\n",
    "* What is deep learning?\n",
    "* What are neural Networks?\n",
    "* What is classification?\n",
    "* what is regression?\n",
    "* What is reinforcement learning?\n",
    "* What are unsupervised learning?\n",
    "* What are generative models?\n",
    "* What is pytorch/tensorflow?\n",
    "* What do you wanna learn in AI?"
   ]
  }
 ],
 "metadata": {
  "celltoolbar": "Slideshow",
  "kernelspec": {
   "display_name": "Python 3",
   "language": "python",
   "name": "python3"
  },
  "language_info": {
   "codemirror_mode": {
    "name": "ipython",
    "version": 3
   },
   "file_extension": ".py",
   "mimetype": "text/x-python",
   "name": "python",
   "nbconvert_exporter": "python",
   "pygments_lexer": "ipython3",
   "version": "3.7.4"
  }
 },
 "nbformat": 4,
 "nbformat_minor": 2
}
